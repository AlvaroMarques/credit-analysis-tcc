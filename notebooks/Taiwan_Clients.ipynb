{
 "cells": [
  {
   "cell_type": "markdown",
   "metadata": {
    "id": "n9Nir_-ykKEI"
   },
   "source": [
    "# Taiwan Clients - Decision Tree Investigation\n",
    "\n",
    "Objective: Create a binary classifier that, given a set of features, decides whether the customer will default (1) or not (0) on the credit payment.\n",
    "\n",
    "[Dataset Page](https://archive.ics.uci.edu/dataset/350/default+of+credit+card+clients)\n",
    "\n",
    "## Feature Set\n",
    "\n",
    "- X1 (LIMIT_BAL): Amount of the given credit (NT dollar): it includes both the individual consumer credit and his/her family (supplementary) credit.\n",
    "- X2 (SEX): Gender (1 = male; 2 = female).\n",
    "- X3 (EDUCATION): Education (1 = graduate school; 2 = university; 3 = high school; 4 = others).\n",
    "- X4 (MARRIAGE): Marital status (1 = married; 2 = single; 3 = others).\n",
    "- X5 (AGE): Age (year).\n",
    "- X6 - X11 (PAY_0 - PAY_6): History of past payment. We tracked the past monthly payment records (from April to September, 2005) as follows: X6 (PAY_0) = the repayment status in September, 2005; X11 (PAY_6) = the repayment status in April, 2005. The measurement scale for the repayment status is: -1 = pay duly; 1 = payment delay for one month; 2 = payment delay for two months; . . .; 8 = payment delay for eight months; 9 = payment delay for nine months and above.\n",
    "- X12-X17 (BILL_AMT1 - BILL_AMT6): Amount of bill statement (NT dollar). X12 = amount of bill statement in September, 2005; X13 = amount of bill statement in August, 2005; . . .; X17 = amount of bill statement in April, 2005.\n",
    "- X18-X23 (PAY_AMT1 - PAY_AMT6): Amount of previous payment (NT dollar). X18 = amount paid in September, 2005; X19 = amount paid in August, 2005; . . .;X23 = amount paid in April, 2005.\n",
    "\n",
    "\n",
    "\n"
   ]
  },
  {
   "cell_type": "markdown",
   "metadata": {
    "id": "cA756V-Il-pQ"
   },
   "source": []
  },
  {
   "cell_type": "markdown",
   "metadata": {
    "id": "emXWkKj3mAh0"
   },
   "source": [
    "## Class for Loading the DataFrame  "
   ]
  },
  {
   "cell_type": "code",
   "execution_count": 1,
   "metadata": {
    "executionInfo": {
     "elapsed": 924,
     "status": "ok",
     "timestamp": 1710719273788,
     "user": {
      "displayName": "Alvaro Marques",
      "userId": "01052381709667920752"
     },
     "user_tz": 180
    },
    "id": "JuKHrrlrQP5N"
   },
   "outputs": [],
   "source": [
    "import requests\n",
    "import zipfile\n",
    "import io\n",
    "import os\n",
    "import pandas as pd\n",
    "import numpy as np\n",
    "\n",
    "class DataFrameLoader:\n",
    "  TAIWAN_CLIENTS_URL = \"https://archive.ics.uci.edu/static/public/350/default+of+credit+card+clients.zip\"\n",
    "  TAIWAN_CLIENTS_BASE_PATH = \"/content/taiwan-clients/\"\n",
    "\n",
    "  def _download_taiwan_clients(self, path):\n",
    "    if not os.path.isdir(path):\n",
    "      os.mkdir(path)\n",
    "\n",
    "    with requests.get(self.TAIWAN_CLIENTS_URL) as response:\n",
    "      z = zipfile.ZipFile(io.BytesIO(response.content))\n",
    "      z.extract(\"default of credit card clients.xls\")\n",
    "      z.close()\n",
    "\n",
    "    df_path = os.path.join(path, \"df.xls\")\n",
    "    os.rename(\"default of credit card clients.xls\",df_path)\n",
    "\n",
    "    return df_path\n",
    "\n",
    "  def taiwan_clients(self, download_path=TAIWAN_CLIENTS_BASE_PATH):\n",
    "    df_path = self._download_taiwan_clients(path=download_path)\n",
    "    return pd.read_excel(df_path, skiprows=1)\n",
    "\n",
    "\n"
   ]
  },
  {
   "cell_type": "code",
   "execution_count": null,
   "metadata": {
    "executionInfo": {
     "elapsed": 324,
     "status": "ok",
     "timestamp": 1710719274110,
     "user": {
      "displayName": "Alvaro Marques",
      "userId": "01052381709667920752"
     },
     "user_tz": 180
    },
    "id": "ks--lItymDb_"
   },
   "outputs": [],
   "source": []
  },
  {
   "cell_type": "markdown",
   "metadata": {
    "id": "_u2wQ6QbmElc"
   },
   "source": [
    "## Initially Loading all Features, except `ID`"
   ]
  },
  {
   "cell_type": "code",
   "execution_count": null,
   "metadata": {
    "executionInfo": {
     "elapsed": 2,
     "status": "ok",
     "timestamp": 1710719274110,
     "user": {
      "displayName": "Alvaro Marques",
      "userId": "01052381709667920752"
     },
     "user_tz": 180
    },
    "id": "GrLcLC12mEUh"
   },
   "outputs": [],
   "source": []
  },
  {
   "cell_type": "code",
   "execution_count": 2,
   "metadata": {
    "colab": {
     "base_uri": "https://localhost:8080/"
    },
    "executionInfo": {
     "elapsed": 4631,
     "status": "ok",
     "timestamp": 1710719278739,
     "user": {
      "displayName": "Alvaro Marques",
      "userId": "01052381709667920752"
     },
     "user_tz": 180
    },
    "id": "PuzloSUQTHYk",
    "outputId": "dd89b016-d4fd-46aa-8f50-adf62b9d8fb1"
   },
   "outputs": [
    {
     "ename": "FileNotFoundError",
     "evalue": "[Errno 2] No such file or directory: '/content/taiwan-clients/'",
     "output_type": "error",
     "traceback": [
      "\u001b[0;31m---------------------------------------------------------------------------\u001b[0m",
      "\u001b[0;31mFileNotFoundError\u001b[0m                         Traceback (most recent call last)",
      "Cell \u001b[0;32mIn[2], line 1\u001b[0m\n\u001b[0;32m----> 1\u001b[0m df \u001b[38;5;241m=\u001b[39m \u001b[43mDataFrameLoader\u001b[49m\u001b[43m(\u001b[49m\u001b[43m)\u001b[49m\u001b[38;5;241;43m.\u001b[39;49m\u001b[43mtaiwan_clients\u001b[49m\u001b[43m(\u001b[49m\u001b[43m)\u001b[49m\n\u001b[1;32m      3\u001b[0m df\u001b[38;5;241m.\u001b[39mcolumns\n",
      "Cell \u001b[0;32mIn[1], line 27\u001b[0m, in \u001b[0;36mDataFrameLoader.taiwan_clients\u001b[0;34m(self, download_path)\u001b[0m\n\u001b[1;32m     26\u001b[0m \u001b[38;5;28;01mdef\u001b[39;00m \u001b[38;5;21mtaiwan_clients\u001b[39m(\u001b[38;5;28mself\u001b[39m, download_path\u001b[38;5;241m=\u001b[39mTAIWAN_CLIENTS_BASE_PATH):\n\u001b[0;32m---> 27\u001b[0m   df_path \u001b[38;5;241m=\u001b[39m \u001b[38;5;28;43mself\u001b[39;49m\u001b[38;5;241;43m.\u001b[39;49m\u001b[43m_download_taiwan_clients\u001b[49m\u001b[43m(\u001b[49m\u001b[43mpath\u001b[49m\u001b[38;5;241;43m=\u001b[39;49m\u001b[43mdownload_path\u001b[49m\u001b[43m)\u001b[49m\n\u001b[1;32m     28\u001b[0m   \u001b[38;5;28;01mreturn\u001b[39;00m pd\u001b[38;5;241m.\u001b[39mread_excel(df_path, skiprows\u001b[38;5;241m=\u001b[39m\u001b[38;5;241m1\u001b[39m)\n",
      "Cell \u001b[0;32mIn[1], line 14\u001b[0m, in \u001b[0;36mDataFrameLoader._download_taiwan_clients\u001b[0;34m(self, path)\u001b[0m\n\u001b[1;32m     12\u001b[0m \u001b[38;5;28;01mdef\u001b[39;00m \u001b[38;5;21m_download_taiwan_clients\u001b[39m(\u001b[38;5;28mself\u001b[39m, path):\n\u001b[1;32m     13\u001b[0m   \u001b[38;5;28;01mif\u001b[39;00m \u001b[38;5;129;01mnot\u001b[39;00m os\u001b[38;5;241m.\u001b[39mpath\u001b[38;5;241m.\u001b[39misdir(path):\n\u001b[0;32m---> 14\u001b[0m     \u001b[43mos\u001b[49m\u001b[38;5;241;43m.\u001b[39;49m\u001b[43mmkdir\u001b[49m\u001b[43m(\u001b[49m\u001b[43mpath\u001b[49m\u001b[43m)\u001b[49m\n\u001b[1;32m     16\u001b[0m   \u001b[38;5;28;01mwith\u001b[39;00m requests\u001b[38;5;241m.\u001b[39mget(\u001b[38;5;28mself\u001b[39m\u001b[38;5;241m.\u001b[39mTAIWAN_CLIENTS_URL) \u001b[38;5;28;01mas\u001b[39;00m response:\n\u001b[1;32m     17\u001b[0m     z \u001b[38;5;241m=\u001b[39m zipfile\u001b[38;5;241m.\u001b[39mZipFile(io\u001b[38;5;241m.\u001b[39mBytesIO(response\u001b[38;5;241m.\u001b[39mcontent))\n",
      "\u001b[0;31mFileNotFoundError\u001b[0m: [Errno 2] No such file or directory: '/content/taiwan-clients/'"
     ]
    }
   ],
   "source": [
    "df = DataFrameLoader().taiwan_clients()\n",
    "\n",
    "df.columns"
   ]
  },
  {
   "cell_type": "code",
   "execution_count": null,
   "metadata": {
    "executionInfo": {
     "elapsed": 5,
     "status": "ok",
     "timestamp": 1710719278739,
     "user": {
      "displayName": "Alvaro Marques",
      "userId": "01052381709667920752"
     },
     "user_tz": 180
    },
    "id": "Rib1x5pBK6XK"
   },
   "outputs": [],
   "source": [
    "x_cols = ['LIMIT_BAL', 'SEX', 'EDUCATION', 'MARRIAGE', 'AGE', 'PAY_0',\n",
    "       'PAY_2', 'PAY_3', 'PAY_4', 'PAY_5', 'PAY_6', 'BILL_AMT1', 'BILL_AMT2',\n",
    "       'BILL_AMT3', 'BILL_AMT4', 'BILL_AMT5', 'BILL_AMT6', 'PAY_AMT1',\n",
    "       'PAY_AMT2', 'PAY_AMT3', 'PAY_AMT4', 'PAY_AMT5', 'PAY_AMT6']\n",
    "\n",
    "y_cols = ['default payment next month']\n",
    "X, y = df.loc[:, x_cols], df.loc[:, y_cols]"
   ]
  },
  {
   "cell_type": "markdown",
   "metadata": {
    "id": "X_xzqgLAmSII"
   },
   "source": [
    "## Splitting dataset and creating the training pipeline\n",
    "\n",
    "The training pipeline will have the following steps\n",
    "1. Scaling: Using Standard Scaler, will fit the scaler with the training data and also transform this data to scaled values\n",
    "2. Oversampling: Using SMOTE, will oversample the dataset to have the same number of classes in both cases (this dataset over-represents the non defaulted clients that represents ~78.8% of the data)\n",
    "3. Model training: Using the DecisionTreeClassifier, will fit the train data\n",
    "\n"
   ]
  },
  {
   "cell_type": "code",
   "execution_count": null,
   "metadata": {
    "executionInfo": {
     "elapsed": 3264,
     "status": "ok",
     "timestamp": 1710719282000,
     "user": {
      "displayName": "Alvaro Marques",
      "userId": "01052381709667920752"
     },
     "user_tz": 180
    },
    "id": "_00s2_fuU02r"
   },
   "outputs": [],
   "source": [
    "from sklearn.svm import SVC\n",
    "from sklearn.model_selection import train_test_split\n",
    "from sklearn.preprocessing import StandardScaler\n",
    "from sklearn.tree import DecisionTreeClassifier, plot_tree\n",
    "from imblearn.over_sampling import SMOTE\n",
    "\n",
    "\n",
    "X_train, X_test, y_train, y_test = train_test_split(X.values, y.values,\n",
    "                                                    random_state=42)\n",
    "\n",
    "\n",
    "def fit_train(X_train, y_train, scaler: StandardScaler, smote: SMOTE, model):\n",
    "\n",
    "  scaler.fit(X_train)\n",
    "  X_train = scaler.transform(X_train)\n",
    "  if smote is not None:\n",
    "    X_train, y_train = smote.fit_resample(X_train, y_train)\n",
    "  model.fit(X_train, y_train)\n",
    "\n",
    "  return {\n",
    "      \"scaler\": scaler,\n",
    "      \"smote\": smote,\n",
    "      \"model\": model\n",
    "  }\n",
    "\n",
    "# Functions to run the test data, SMOTE won't be necessary for it\n",
    "def preprocess(operators, X, y):\n",
    "  X = operators[\"scaler\"].transform(X)\n",
    "  return X, y\n",
    "\n",
    "def predict(operators, X_test, y_test):\n",
    "  X_test = operators[\"scaler\"].transform(X_test)\n",
    "  return operators[\"model\"].predict(X_test)"
   ]
  },
  {
   "cell_type": "markdown",
   "metadata": {
    "id": "Rf1zrHE8nIYD"
   },
   "source": [
    "## Additional functions to read into the model output and validation\n",
    "\n"
   ]
  },
  {
   "cell_type": "code",
   "execution_count": null,
   "metadata": {
    "executionInfo": {
     "elapsed": 3,
     "status": "ok",
     "timestamp": 1710719282000,
     "user": {
      "displayName": "Alvaro Marques",
      "userId": "01052381709667920752"
     },
     "user_tz": 180
    },
    "id": "HhQLsQU1pUiN"
   },
   "outputs": [],
   "source": [
    "from sklearn.metrics import confusion_matrix, ConfusionMatrixDisplay\n",
    "import matplotlib.pyplot as plt\n",
    "from sklearn.metrics import RocCurveDisplay\n",
    "def calculate_confusion_matrix(operators, X, y):\n",
    "  y_pred = predict(operators, X_test, y_test)\n",
    "  cm = confusion_matrix(y_true=y_test, y_pred=y_pred)\n",
    "  return cm\n",
    "\n",
    "def plot_confusion_matrix(cm):\n",
    "  display = ConfusionMatrixDisplay(confusion_matrix=cm)\n",
    "  display.plot()\n",
    "  return display\n",
    "\n",
    "def plot_roc_curve(operators, X, y, **kwargs):\n",
    "  processed_X, processed_Y = preprocess(operators, X, y)\n",
    "  display = RocCurveDisplay.from_estimator(estimator=operators[\"model\"], X=processed_X, y=processed_Y, **kwargs)\n",
    "\n",
    "  return display\n",
    "\n",
    "def process_metrics(operators, X, y):\n",
    "  cm = calculate_confusion_matrix(operators, X, y)\n",
    "  plot_confusion_matrix(cm)\n",
    "  plt.show()\n",
    "  plot_roc_curve(operators, X, y)\n",
    "  plt.show()\n",
    "\n",
    "def choose_best_operator_based_on(operators, metric):\n",
    "\n",
    "  metric_value = -1\n",
    "  best_operator_index = 0\n",
    "  for i, operator in enumerate(operators):\n",
    "    y_pred = predict(operator, X_test, y_test)\n",
    "    precision, recall, fscore, support = score(y_test, y_pred, average=\"macro\")\n",
    "    metrics = {\n",
    "        \"precision\": precision,\n",
    "        \"recall\": recall,\n",
    "        \"fscore\": fscore,\n",
    "        \"support\": support\n",
    "    }\n",
    "    if metrics[metric] > metric_value:\n",
    "      metric_value = metrics[metric]\n",
    "      best_operator_index = i\n",
    "  return best_operator_index, operators[best_operator_index]"
   ]
  },
  {
   "cell_type": "code",
   "execution_count": null,
   "metadata": {
    "executionInfo": {
     "elapsed": 10464,
     "status": "ok",
     "timestamp": 1710719292462,
     "user": {
      "displayName": "Alvaro Marques",
      "userId": "01052381709667920752"
     },
     "user_tz": 180
    },
    "id": "-kblkBxgWWRy"
   },
   "outputs": [],
   "source": [
    "operators = [fit_train(\n",
    "  X_train=X_train,\n",
    "  y_train=y_train,\n",
    "  scaler = StandardScaler(),\n",
    "  smote = SMOTE(random_state=42),\n",
    "  model = DecisionTreeClassifier(random_state=42, max_depth=depth)\n",
    ") for depth in (2, 5, 10, 20, None)]\n"
   ]
  },
  {
   "cell_type": "code",
   "execution_count": null,
   "metadata": {
    "colab": {
     "base_uri": "https://localhost:8080/",
     "height": 961
    },
    "executionInfo": {
     "elapsed": 2690,
     "status": "ok",
     "timestamp": 1710719295136,
     "user": {
      "displayName": "Alvaro Marques",
      "userId": "01052381709667920752"
     },
     "user_tz": 180
    },
    "id": "AFRN-dogS21-",
    "outputId": "5ebbd25f-404e-4582-ac48-424a366e5d2c"
   },
   "outputs": [],
   "source": [
    "from sklearn.metrics import precision_recall_fscore_support as score\n",
    "ax = plt.gca()\n",
    "plt.title(\"Using SMOTE\")\n",
    "for operator in operators:\n",
    "  plot_roc_curve(operator, X_test, y_test, ax=ax, name = str(operator[\"model\"].tree_.max_depth))\n",
    "\n",
    "plt.show()\n",
    "\n",
    "metric = \"fscore\"\n",
    "_, best_operator = choose_best_operator_based_on(operators, metric)\n",
    "\n",
    "plt.title(\"Feature Importance of Best Model ({}) Based on {}\".format(\n",
    "    best_operator[\"model\"].tree_.max_depth, metric)\n",
    ")\n",
    "plt.bar(x_cols, best_operator[\"model\"].feature_importances_)\n",
    "plt.xticks(rotation=45, ha=\"right\")\n",
    "plt.show()"
   ]
  },
  {
   "cell_type": "code",
   "execution_count": null,
   "metadata": {
    "colab": {
     "base_uri": "https://localhost:8080/"
    },
    "executionInfo": {
     "elapsed": 4,
     "status": "ok",
     "timestamp": 1710719295136,
     "user": {
      "displayName": "Alvaro Marques",
      "userId": "01052381709667920752"
     },
     "user_tz": 180
    },
    "id": "w5Xpj5hyvuzA",
    "outputId": "573c0f18-47fe-431d-85d2-2e6aeadd2ee3"
   },
   "outputs": [],
   "source": [
    "y_pred = predict(best_operator, X_test, y_test)\n",
    "\n",
    "precision, recall, fscore, support = score(y_test, y_pred)\n",
    "\n",
    "for label, string in enumerate([\"non defaulted\", \"defaulted\"]):\n",
    "  print(\"{}: Precision {:.3f} - Recall {:.3f} - F1 {:.3f}\".format(string, precision[label], recall[label], fscore[label]))\n",
    "\n",
    "precision, recall, fscore, support = score(y_test, y_pred, average=\"macro\")\n",
    "\n",
    "print(\"All: Precision {:.3f} - Recall {:.3f} - F1 {:.3f}\".format(precision, recall, fscore))"
   ]
  },
  {
   "cell_type": "code",
   "execution_count": null,
   "metadata": {
    "colab": {
     "base_uri": "https://localhost:8080/",
     "height": 322
    },
    "executionInfo": {
     "elapsed": 984,
     "status": "error",
     "timestamp": 1710719478467,
     "user": {
      "displayName": "Alvaro Marques",
      "userId": "01052381709667920752"
     },
     "user_tz": 180
    },
    "id": "YhlkmHWvu0RE",
    "outputId": "3f6857a6-d211-4aa8-974c-3ff31531a222"
   },
   "outputs": [],
   "source": []
  },
  {
   "cell_type": "code",
   "execution_count": null,
   "metadata": {
    "id": "NIKEn1ri05mJ"
   },
   "outputs": [],
   "source": []
  }
 ],
 "metadata": {
  "colab": {
   "provenance": []
  },
  "kernelspec": {
   "display_name": "Python 3 (ipykernel)",
   "language": "python",
   "name": "python3"
  },
  "language_info": {
   "codemirror_mode": {
    "name": "ipython",
    "version": 3
   },
   "file_extension": ".py",
   "mimetype": "text/x-python",
   "name": "python",
   "nbconvert_exporter": "python",
   "pygments_lexer": "ipython3",
   "version": "3.11.6"
  }
 },
 "nbformat": 4,
 "nbformat_minor": 4
}
